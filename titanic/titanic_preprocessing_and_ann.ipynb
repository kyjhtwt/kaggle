{
 "cells": [
  {
   "cell_type": "code",
   "execution_count": 1,
   "metadata": {},
   "outputs": [],
   "source": [
    "import pandas as pd\n",
    "import numpy as np\n",
    "import tensorflow as tf\n",
    "import matplotlib.pyplot as plt\n",
    "from keras.models import Sequential\n",
    "from keras.layers import Dense, Dropout\n",
    "import os\n",
    "from sklearn import preprocessing\n",
    "from sklearn.model_selection import train_test_split\n",
    "import tensorflow.keras.layers as layers"
   ]
  },
  {
   "cell_type": "code",
   "execution_count": 2,
   "metadata": {},
   "outputs": [],
   "source": [
    "BATCH_SIZE = 16"
   ]
  },
  {
   "cell_type": "code",
   "execution_count": 3,
   "metadata": {},
   "outputs": [],
   "source": [
    "def get_survive_rate(data, column=-1, cond=-1):\n",
    "    copied_data = data.copy()\n",
    "    if(column != -1):\n",
    "        if(cond != -1):\n",
    "            copied_data = copied_data[copied_data[column] == cond]\n",
    "        else:\n",
    "            pass\n",
    "    elif(cond != -1):\n",
    "        copied_data = copied_data[cond]\n",
    "    else:\n",
    "        pass\n",
    "    return (copied_data[copied_data['Survived'] == 1].shape[0] / copied_data.shape[0])"
   ]
  },
  {
   "cell_type": "code",
   "execution_count": 4,
   "metadata": {},
   "outputs": [],
   "source": [
    "def get_age_range(x, range_len):\n",
    "    return round(x / 5) * 5 + 2.5\n",
    "def is_infant(x):\n",
    "    if(x <= 11): return 1\n",
    "    else: return 0"
   ]
  },
  {
   "cell_type": "code",
   "execution_count": 5,
   "metadata": {},
   "outputs": [],
   "source": [
    "df = pd.read_csv('train.csv')\n",
    "test_df = pd.read_csv('test.csv')"
   ]
  },
  {
   "cell_type": "code",
   "execution_count": 6,
   "metadata": {},
   "outputs": [
    {
     "data": {
      "text/plain": [
       "0.3838383838383838"
      ]
     },
     "execution_count": 6,
     "metadata": {},
     "output_type": "execute_result"
    }
   ],
   "source": [
    "df.Survived.sum() / df.shape[0]"
   ]
  },
  {
   "cell_type": "code",
   "execution_count": 7,
   "metadata": {},
   "outputs": [
    {
     "data": {
      "text/plain": [
       "PassengerId      0\n",
       "Survived         0\n",
       "Pclass           0\n",
       "Name             0\n",
       "Sex              0\n",
       "Age            177\n",
       "SibSp            0\n",
       "Parch            0\n",
       "Ticket           0\n",
       "Fare             0\n",
       "Cabin          687\n",
       "Embarked         2\n",
       "dtype: int64"
      ]
     },
     "execution_count": 7,
     "metadata": {},
     "output_type": "execute_result"
    }
   ],
   "source": [
    "df.isnull().sum(axis=0)"
   ]
  },
  {
   "cell_type": "code",
   "execution_count": 8,
   "metadata": {},
   "outputs": [],
   "source": [
    "dataset = df.copy()\n",
    "testset = test_df.copy()"
   ]
  },
  {
   "cell_type": "code",
   "execution_count": 9,
   "metadata": {},
   "outputs": [],
   "source": [
    "dataset = dataset.drop(columns=['Cabin', 'Ticket', 'Name'])\n",
    "testset = testset.drop(columns=['Cabin', 'Ticket', 'Name'])"
   ]
  },
  {
   "cell_type": "code",
   "execution_count": 10,
   "metadata": {},
   "outputs": [],
   "source": [
    "temp_df = dataset.copy()\n",
    "temp_df = temp_df.fillna(-1)\n",
    "condition = temp_df['Age'] >= 0\n",
    "temp_df = temp_df[condition]\n",
    "age_sum = temp_df['Age'].sum(axis=0)\n",
    "valid_age_cnt = temp_df['Age'].count()\n",
    "age_avg = round(age_sum / valid_age_cnt)"
   ]
  },
  {
   "cell_type": "code",
   "execution_count": 11,
   "metadata": {},
   "outputs": [],
   "source": [
    "dataset['Age'] = dataset['Age'].fillna(age_avg)\n",
    "testset['Age'] = testset['Age'].fillna(age_avg)\n"
   ]
  },
  {
   "cell_type": "code",
   "execution_count": 12,
   "metadata": {},
   "outputs": [],
   "source": [
    "Embarked_mark = dataset['Embarked']\n",
    "embarked_c = dataset[Embarked_mark == 'C']\n",
    "embarked_s = dataset[Embarked_mark == 'S']\n",
    "embarked_q = dataset[Embarked_mark == 'Q']\n",
    "survived = dataset['Survived'] == 1"
   ]
  },
  {
   "cell_type": "code",
   "execution_count": 13,
   "metadata": {},
   "outputs": [
    {
     "name": "stdout",
     "output_type": "stream",
     "text": [
      "0.5535714285714286 0.38961038961038963 0.33695652173913043\n"
     ]
    },
    {
     "name": "stderr",
     "output_type": "stream",
     "text": [
      "/opt/anaconda3/envs/test/lib/python3.7/site-packages/ipykernel_launcher.py:1: UserWarning: Boolean Series key will be reindexed to match DataFrame index.\n",
      "  \"\"\"Entry point for launching an IPython kernel.\n",
      "/opt/anaconda3/envs/test/lib/python3.7/site-packages/ipykernel_launcher.py:2: UserWarning: Boolean Series key will be reindexed to match DataFrame index.\n",
      "  \n",
      "/opt/anaconda3/envs/test/lib/python3.7/site-packages/ipykernel_launcher.py:3: UserWarning: Boolean Series key will be reindexed to match DataFrame index.\n",
      "  This is separate from the ipykernel package so we can avoid doing imports until\n"
     ]
    }
   ],
   "source": [
    "survival_rate_c = embarked_c[survived].shape[0] / embarked_c.shape[0]\n",
    "survival_rate_s = embarked_s[survived].shape[0] / embarked_s.shape[0]\n",
    "survival_rate_q = embarked_q[survived].shape[0] / embarked_q.shape[0]\n",
    "print(survival_rate_c, survival_rate_q, survival_rate_s)"
   ]
  },
  {
   "cell_type": "code",
   "execution_count": 14,
   "metadata": {},
   "outputs": [],
   "source": [
    "dataset = dataset.drop(columns='Embarked')\n",
    "testset = testset.drop(columns='Embarked')"
   ]
  },
  {
   "cell_type": "code",
   "execution_count": 15,
   "metadata": {},
   "outputs": [
    {
     "name": "stdout",
     "output_type": "stream",
     "text": [
      "0.2517482517482518\n",
      "0.6857142857142857\n"
     ]
    }
   ],
   "source": [
    "sibsp_dataset = dataset[dataset['SibSp'] > 0]\n",
    "sibsp_dataset_male = sibsp_dataset[sibsp_dataset['Sex'] == 'male']\n",
    "sibsp_dataset_female = sibsp_dataset[sibsp_dataset['Sex'] == 'female']\n",
    "print(sibsp_dataset_male[sibsp_dataset_male['Survived'] == 1].shape[0] / sibsp_dataset_male.shape[0])\n",
    "print(sibsp_dataset_female[sibsp_dataset_female['Survived'] == 1].shape[0] / sibsp_dataset_female.shape[0])"
   ]
  },
  {
   "cell_type": "code",
   "execution_count": 16,
   "metadata": {},
   "outputs": [
    {
     "name": "stdout",
     "output_type": "stream",
     "text": [
      "0.18890814558058924 0.7420382165605095\n"
     ]
    }
   ],
   "source": [
    "male_data = dataset[dataset['Sex'] == 'male']\n",
    "female_data = dataset[dataset['Sex'] == 'female']\n",
    "male_data_survived_rate = male_data[male_data['Survived'] == 1].shape[0] / male_data.shape[0]\n",
    "female_data_survived_rate = female_data[female_data['Survived'] == 1].shape[0] / female_data.shape[0]\n",
    "print(male_data_survived_rate, female_data_survived_rate)"
   ]
  },
  {
   "cell_type": "code",
   "execution_count": 17,
   "metadata": {},
   "outputs": [],
   "source": [
    "age_plot_dataset = dataset.copy()\n",
    "age_plot_dataset['Age'] = age_plot_dataset['Age'].apply(lambda x: get_age_range(x, 5))\n",
    "ages = age_plot_dataset['Age'].unique()\n",
    "survived_rate_range_ages = []\n",
    "for age in ages:\n",
    "    survived_rate = get_survive_rate(age_plot_dataset, 'Age', age)\n",
    "    survived_rate_range_ages.append(survived_rate)"
   ]
  },
  {
   "cell_type": "code",
   "execution_count": 18,
   "metadata": {},
   "outputs": [
    {
     "data": {
      "text/plain": [
       "<BarContainer object of 17 artists>"
      ]
     },
     "execution_count": 18,
     "metadata": {},
     "output_type": "execute_result"
    },
    {
     "data": {
      "image/png": "[encoded data removed]",
      "text/plain": [
       "<Figure size 432x288 with 1 Axes>"
      ]
     },
     "metadata": {
      "needs_background": "light"
     },
     "output_type": "display_data"
    }
   ],
   "source": [
    "plt.bar(ages, survived_rate_range_ages, width=1.5)"
   ]
  },
  {
   "cell_type": "code",
   "execution_count": 19,
   "metadata": {},
   "outputs": [],
   "source": [
    "dataset['Infant'] = dataset['Age'].apply(lambda x : is_infant(x))\n",
    "testset['Infant'] = testset['Age'].apply(lambda x : is_infant(x))"
   ]
  },
  {
   "cell_type": "code",
   "execution_count": 20,
   "metadata": {},
   "outputs": [
    {
     "data": {
      "text/plain": [
       "0.5056497175141242"
      ]
     },
     "execution_count": 20,
     "metadata": {},
     "output_type": "execute_result"
    }
   ],
   "source": [
    "temp = dataset.copy()\n",
    "have_Parch = temp['Parch'] >= 1\n",
    "have_SibSp = temp['SibSp'] >= 1\n",
    "get_survive_rate(temp[(have_Parch | have_SibSp)])"
   ]
  },
  {
   "cell_type": "code",
   "execution_count": 21,
   "metadata": {},
   "outputs": [],
   "source": [
    "dataset['family'] = (dataset['Parch'] + dataset['SibSp'])\n",
    "dataset = dataset.drop(columns='PassengerId')\n",
    "testset['family'] = (testset['Parch'] + testset['SibSp'])\n",
    "testset = testset.drop(columns='PassengerId')"
   ]
  },
  {
   "cell_type": "code",
   "execution_count": 22,
   "metadata": {},
   "outputs": [],
   "source": [
    "dataset.to_excel('preprocessing.xlsx')"
   ]
  },
  {
   "cell_type": "code",
   "execution_count": 23,
   "metadata": {},
   "outputs": [],
   "source": [
    "categorical_columns = ['Pclass', 'Sex']\n",
    "for col in categorical_columns:\n",
    "    le = preprocessing.LabelEncoder()\n",
    "    le.fit(dataset[col].values)\n",
    "    dataset[col] = le.transform(dataset[col].values)\n",
    "\n",
    "for col in categorical_columns:\n",
    "    le = preprocessing.LabelEncoder()\n",
    "    le.fit(testset[col].values)\n",
    "    testset[col] = le.transform(testset[col].values)"
   ]
  },
  {
   "cell_type": "code",
   "execution_count": 24,
   "metadata": {},
   "outputs": [],
   "source": [
    "train, test = train_test_split(dataset, test_size=0.2)\n",
    "train, val = train_test_split(train, test_size=0.2)"
   ]
  },
  {
   "cell_type": "code",
   "execution_count": 25,
   "metadata": {},
   "outputs": [],
   "source": [
    "y_train = train.pop('Survived')\n",
    "y_test = test.pop('Survived')\n",
    "y_val = val.pop('Survived')"
   ]
  },
  {
   "cell_type": "code",
   "execution_count": 26,
   "metadata": {},
   "outputs": [],
   "source": [
    "# test_data = df_to_dataset(test)\n",
    "# train_data = df_to_dataset(train)\n",
    "# val_data = df_to_dataset(val)"
   ]
  },
  {
   "cell_type": "code",
   "execution_count": 27,
   "metadata": {},
   "outputs": [],
   "source": [
    "def ANN(optimizer):\n",
    "    ann = Sequential()\n",
    "    ann.add(Dense(units=32, kernel_initializer='glorot_uniform', activation='relu'))\n",
    "    ann.add(Dense(units=64, kernel_initializer='glorot_uniform', activation='relu'))\n",
    "    ann.add(Dropout(rate=0.5))\n",
    "    ann.add(Dense(units=64, kernel_initializer='glorot_uniform', activation='relu'))\n",
    "    ann.add(Dropout(rate=0.5))\n",
    "    ann.add(Dense(units=1, kernel_initializer='glorot_uniform', activation='sigmoid'))\n",
    "    ann.compile(optimizer=optimizer, loss='binary_crossentropy', metrics=['accuracy'])\n",
    "    return ann"
   ]
  },
  {
   "cell_type": "code",
   "execution_count": 28,
   "metadata": {},
   "outputs": [
    {
     "name": "stdout",
     "output_type": "stream",
     "text": [
      "Epoch 1/100\n"
     ]
    },
    {
     "name": "stderr",
     "output_type": "stream",
     "text": [
      "/opt/anaconda3/envs/test/lib/python3.7/site-packages/keras/optimizers/optimizer_v2/adam.py:110: UserWarning: The `lr` argument is deprecated, use `learning_rate` instead.\n",
      "  super(Adam, self).__init__(name, **kwargs)\n",
      "2022-07-12 13:04:25.422853: I tensorflow/core/platform/cpu_feature_guard.cc:193] This TensorFlow binary is optimized with oneAPI Deep Neural Network Library (oneDNN) to use the following CPU instructions in performance-critical operations:  AVX2 FMA\n",
      "To enable them in other operations, rebuild TensorFlow with the appropriate compiler flags.\n"
     ]
    },
    {
     "name": "stdout",
     "output_type": "stream",
     "text": [
      "36/36 [==============================] - 1s 7ms/step - loss: 2.0482 - accuracy: 0.5149 - val_loss: 0.8497 - val_accuracy: 0.6084\n",
      "Epoch 2/100\n",
      "36/36 [==============================] - 0s 2ms/step - loss: 1.5115 - accuracy: 0.5606 - val_loss: 0.7139 - val_accuracy: 0.6154\n",
      "Epoch 3/100\n",
      "36/36 [==============================] - 0s 2ms/step - loss: 0.9638 - accuracy: 0.5817 - val_loss: 0.7057 - val_accuracy: 0.6224\n",
      "Epoch 4/100\n",
      "36/36 [==============================] - 0s 2ms/step - loss: 0.9238 - accuracy: 0.6046 - val_loss: 0.7028 - val_accuracy: 0.6154\n",
      "Epoch 5/100\n",
      "36/36 [==============================] - 0s 2ms/step - loss: 0.8720 - accuracy: 0.6327 - val_loss: 0.6934 - val_accuracy: 0.6224\n",
      "Epoch 6/100\n",
      "36/36 [==============================] - 0s 3ms/step - loss: 0.7572 - accuracy: 0.6467 - val_loss: 0.6722 - val_accuracy: 0.6154\n",
      "Epoch 7/100\n",
      "36/36 [==============================] - 0s 4ms/step - loss: 0.6894 - accuracy: 0.6362 - val_loss: 0.6522 - val_accuracy: 0.6224\n",
      "Epoch 8/100\n",
      "36/36 [==============================] - 0s 2ms/step - loss: 0.7031 - accuracy: 0.6450 - val_loss: 0.6663 - val_accuracy: 0.6364\n",
      "Epoch 9/100\n",
      "36/36 [==============================] - 0s 2ms/step - loss: 0.6942 - accuracy: 0.6415 - val_loss: 0.6419 - val_accuracy: 0.6294\n",
      "Epoch 10/100\n",
      "36/36 [==============================] - 0s 2ms/step - loss: 0.6698 - accuracy: 0.6204 - val_loss: 0.6479 - val_accuracy: 0.6224\n",
      "Epoch 11/100\n",
      "36/36 [==============================] - 0s 2ms/step - loss: 0.6497 - accuracy: 0.6380 - val_loss: 0.6417 - val_accuracy: 0.6294\n",
      "Epoch 12/100\n",
      "36/36 [==============================] - 0s 2ms/step - loss: 0.6434 - accuracy: 0.6573 - val_loss: 0.6382 - val_accuracy: 0.6224\n",
      "Epoch 13/100\n",
      "36/36 [==============================] - 0s 2ms/step - loss: 0.6412 - accuracy: 0.6485 - val_loss: 0.6350 - val_accuracy: 0.6224\n",
      "Epoch 14/100\n",
      "36/36 [==============================] - 0s 2ms/step - loss: 0.6404 - accuracy: 0.6555 - val_loss: 0.6458 - val_accuracy: 0.6154\n",
      "Epoch 15/100\n",
      "36/36 [==============================] - 0s 2ms/step - loss: 0.6403 - accuracy: 0.6854 - val_loss: 0.6319 - val_accuracy: 0.6224\n",
      "Epoch 16/100\n",
      "36/36 [==============================] - 0s 2ms/step - loss: 0.6141 - accuracy: 0.6731 - val_loss: 0.6235 - val_accuracy: 0.6294\n",
      "Epoch 17/100\n",
      "36/36 [==============================] - 0s 2ms/step - loss: 0.6102 - accuracy: 0.6696 - val_loss: 0.6320 - val_accuracy: 0.6503\n",
      "Epoch 18/100\n",
      "36/36 [==============================] - 0s 2ms/step - loss: 0.6178 - accuracy: 0.6714 - val_loss: 0.6238 - val_accuracy: 0.6154\n",
      "Epoch 19/100\n",
      "36/36 [==============================] - 0s 2ms/step - loss: 0.6516 - accuracy: 0.6538 - val_loss: 0.6157 - val_accuracy: 0.6364\n",
      "Epoch 20/100\n",
      "36/36 [==============================] - 0s 2ms/step - loss: 0.6154 - accuracy: 0.6819 - val_loss: 0.6189 - val_accuracy: 0.6154\n",
      "Epoch 21/100\n",
      "36/36 [==============================] - 0s 2ms/step - loss: 0.6208 - accuracy: 0.6678 - val_loss: 0.6152 - val_accuracy: 0.6294\n",
      "Epoch 22/100\n",
      "36/36 [==============================] - 0s 2ms/step - loss: 0.6065 - accuracy: 0.6889 - val_loss: 0.6204 - val_accuracy: 0.6294\n",
      "Epoch 23/100\n",
      "36/36 [==============================] - 0s 2ms/step - loss: 0.6086 - accuracy: 0.6714 - val_loss: 0.6272 - val_accuracy: 0.6294\n",
      "Epoch 24/100\n",
      "36/36 [==============================] - 0s 2ms/step - loss: 0.6270 - accuracy: 0.6731 - val_loss: 0.6201 - val_accuracy: 0.6434\n",
      "Epoch 25/100\n",
      "36/36 [==============================] - 0s 2ms/step - loss: 0.5971 - accuracy: 0.6766 - val_loss: 0.6031 - val_accuracy: 0.6364\n",
      "Epoch 26/100\n",
      "36/36 [==============================] - 0s 2ms/step - loss: 0.5848 - accuracy: 0.6749 - val_loss: 0.6128 - val_accuracy: 0.6573\n",
      "Epoch 27/100\n",
      "36/36 [==============================] - 0s 2ms/step - loss: 0.5886 - accuracy: 0.6766 - val_loss: 0.5956 - val_accuracy: 0.6643\n",
      "Epoch 28/100\n",
      "36/36 [==============================] - 0s 2ms/step - loss: 0.5991 - accuracy: 0.6608 - val_loss: 0.5942 - val_accuracy: 0.6364\n",
      "Epoch 29/100\n",
      "36/36 [==============================] - 0s 2ms/step - loss: 0.5928 - accuracy: 0.7047 - val_loss: 0.5933 - val_accuracy: 0.6573\n",
      "Epoch 30/100\n",
      "36/36 [==============================] - 0s 2ms/step - loss: 0.5783 - accuracy: 0.6977 - val_loss: 0.5874 - val_accuracy: 0.6783\n",
      "Epoch 31/100\n",
      "36/36 [==============================] - 0s 2ms/step - loss: 0.5872 - accuracy: 0.7012 - val_loss: 0.5799 - val_accuracy: 0.6713\n",
      "Epoch 32/100\n",
      "36/36 [==============================] - 0s 2ms/step - loss: 0.5693 - accuracy: 0.6960 - val_loss: 0.5827 - val_accuracy: 0.6713\n",
      "Epoch 33/100\n",
      "36/36 [==============================] - 0s 2ms/step - loss: 0.5828 - accuracy: 0.6924 - val_loss: 0.5847 - val_accuracy: 0.6713\n",
      "Epoch 34/100\n",
      "36/36 [==============================] - 0s 2ms/step - loss: 0.5798 - accuracy: 0.6819 - val_loss: 0.5718 - val_accuracy: 0.6783\n",
      "Epoch 35/100\n",
      "36/36 [==============================] - 0s 2ms/step - loss: 0.5532 - accuracy: 0.7100 - val_loss: 0.5677 - val_accuracy: 0.6713\n",
      "Epoch 36/100\n",
      "36/36 [==============================] - 0s 2ms/step - loss: 0.5665 - accuracy: 0.7311 - val_loss: 0.5718 - val_accuracy: 0.6713\n",
      "Epoch 37/100\n",
      "36/36 [==============================] - 0s 2ms/step - loss: 0.5573 - accuracy: 0.7276 - val_loss: 0.5920 - val_accuracy: 0.7063\n",
      "Epoch 38/100\n",
      "36/36 [==============================] - 0s 2ms/step - loss: 0.5724 - accuracy: 0.7153 - val_loss: 0.5583 - val_accuracy: 0.6713\n",
      "Epoch 39/100\n",
      "36/36 [==============================] - 0s 2ms/step - loss: 0.5709 - accuracy: 0.7083 - val_loss: 0.5487 - val_accuracy: 0.6923\n",
      "Epoch 40/100\n",
      "36/36 [==============================] - 0s 2ms/step - loss: 0.5606 - accuracy: 0.7417 - val_loss: 0.5471 - val_accuracy: 0.6993\n",
      "Epoch 41/100\n",
      "36/36 [==============================] - 0s 2ms/step - loss: 0.5405 - accuracy: 0.7258 - val_loss: 0.5434 - val_accuracy: 0.6713\n",
      "Epoch 42/100\n",
      "36/36 [==============================] - 0s 3ms/step - loss: 0.5685 - accuracy: 0.7364 - val_loss: 0.5398 - val_accuracy: 0.6923\n",
      "Epoch 43/100\n",
      "36/36 [==============================] - 0s 2ms/step - loss: 0.5256 - accuracy: 0.7329 - val_loss: 0.5367 - val_accuracy: 0.7483\n",
      "Epoch 44/100\n",
      "36/36 [==============================] - 0s 2ms/step - loss: 0.5303 - accuracy: 0.7575 - val_loss: 0.5421 - val_accuracy: 0.6923\n",
      "Epoch 45/100\n",
      "36/36 [==============================] - 0s 2ms/step - loss: 0.5599 - accuracy: 0.7241 - val_loss: 0.5476 - val_accuracy: 0.6853\n",
      "Epoch 46/100\n",
      "36/36 [==============================] - 0s 2ms/step - loss: 0.5550 - accuracy: 0.7346 - val_loss: 0.5495 - val_accuracy: 0.6853\n",
      "Epoch 47/100\n",
      "36/36 [==============================] - 0s 2ms/step - loss: 0.5310 - accuracy: 0.7592 - val_loss: 0.5382 - val_accuracy: 0.7063\n",
      "Epoch 48/100\n",
      "36/36 [==============================] - 0s 2ms/step - loss: 0.5374 - accuracy: 0.7311 - val_loss: 0.5442 - val_accuracy: 0.7552\n",
      "Epoch 49/100\n",
      "36/36 [==============================] - 0s 2ms/step - loss: 0.5184 - accuracy: 0.7540 - val_loss: 0.5653 - val_accuracy: 0.6783\n",
      "Epoch 50/100\n",
      "36/36 [==============================] - 0s 2ms/step - loss: 0.5292 - accuracy: 0.7522 - val_loss: 0.5384 - val_accuracy: 0.7483\n",
      "Epoch 51/100\n",
      "36/36 [==============================] - 0s 2ms/step - loss: 0.5307 - accuracy: 0.7452 - val_loss: 0.5227 - val_accuracy: 0.7203\n",
      "Epoch 52/100\n",
      "36/36 [==============================] - 0s 2ms/step - loss: 0.5460 - accuracy: 0.7276 - val_loss: 0.5267 - val_accuracy: 0.7063\n",
      "Epoch 53/100\n",
      "36/36 [==============================] - 0s 2ms/step - loss: 0.5408 - accuracy: 0.7522 - val_loss: 0.5176 - val_accuracy: 0.7622\n",
      "Epoch 54/100\n",
      "36/36 [==============================] - 0s 2ms/step - loss: 0.5233 - accuracy: 0.7768 - val_loss: 0.5190 - val_accuracy: 0.7692\n",
      "Epoch 55/100\n",
      "36/36 [==============================] - 0s 2ms/step - loss: 0.4974 - accuracy: 0.7750 - val_loss: 0.5351 - val_accuracy: 0.7273\n",
      "Epoch 56/100\n",
      "36/36 [==============================] - 0s 2ms/step - loss: 0.5221 - accuracy: 0.7733 - val_loss: 0.5225 - val_accuracy: 0.7483\n",
      "Epoch 57/100\n",
      "36/36 [==============================] - 0s 2ms/step - loss: 0.5297 - accuracy: 0.7768 - val_loss: 0.5116 - val_accuracy: 0.7622\n",
      "Epoch 58/100\n",
      "36/36 [==============================] - 0s 2ms/step - loss: 0.5105 - accuracy: 0.7786 - val_loss: 0.5249 - val_accuracy: 0.7273\n",
      "Epoch 59/100\n",
      "36/36 [==============================] - 0s 2ms/step - loss: 0.4956 - accuracy: 0.7821 - val_loss: 0.5142 - val_accuracy: 0.7692\n",
      "Epoch 60/100\n",
      "36/36 [==============================] - 0s 2ms/step - loss: 0.5258 - accuracy: 0.7627 - val_loss: 0.5244 - val_accuracy: 0.7692\n",
      "Epoch 61/100\n",
      "36/36 [==============================] - 0s 2ms/step - loss: 0.5180 - accuracy: 0.7856 - val_loss: 0.5182 - val_accuracy: 0.7622\n",
      "Epoch 62/100\n",
      "36/36 [==============================] - 0s 2ms/step - loss: 0.4951 - accuracy: 0.7838 - val_loss: 0.5152 - val_accuracy: 0.7762\n",
      "Epoch 63/100\n",
      "36/36 [==============================] - 0s 2ms/step - loss: 0.4984 - accuracy: 0.7979 - val_loss: 0.5138 - val_accuracy: 0.7832\n",
      "Epoch 64/100\n",
      "36/36 [==============================] - 0s 2ms/step - loss: 0.5432 - accuracy: 0.7838 - val_loss: 0.5148 - val_accuracy: 0.7622\n",
      "Epoch 65/100\n",
      "36/36 [==============================] - 0s 2ms/step - loss: 0.4990 - accuracy: 0.7856 - val_loss: 0.5124 - val_accuracy: 0.7692\n",
      "Epoch 66/100\n",
      "36/36 [==============================] - 0s 2ms/step - loss: 0.4731 - accuracy: 0.7873 - val_loss: 0.5075 - val_accuracy: 0.7692\n",
      "Epoch 67/100\n",
      "36/36 [==============================] - 0s 2ms/step - loss: 0.4909 - accuracy: 0.7803 - val_loss: 0.5058 - val_accuracy: 0.7762\n",
      "Epoch 68/100\n",
      "36/36 [==============================] - 0s 2ms/step - loss: 0.4954 - accuracy: 0.7786 - val_loss: 0.5547 - val_accuracy: 0.6853\n",
      "Epoch 69/100\n",
      "36/36 [==============================] - 0s 2ms/step - loss: 0.5077 - accuracy: 0.7768 - val_loss: 0.4997 - val_accuracy: 0.8042\n",
      "Epoch 70/100\n",
      "36/36 [==============================] - 0s 2ms/step - loss: 0.4875 - accuracy: 0.7856 - val_loss: 0.5037 - val_accuracy: 0.7622\n",
      "Epoch 71/100\n",
      "36/36 [==============================] - 0s 4ms/step - loss: 0.4944 - accuracy: 0.8155 - val_loss: 0.5060 - val_accuracy: 0.7832\n",
      "Epoch 72/100\n",
      "36/36 [==============================] - 0s 4ms/step - loss: 0.4945 - accuracy: 0.7944 - val_loss: 0.5081 - val_accuracy: 0.7762\n",
      "Epoch 73/100\n",
      "36/36 [==============================] - 0s 3ms/step - loss: 0.4806 - accuracy: 0.8049 - val_loss: 0.5055 - val_accuracy: 0.7762\n",
      "Epoch 74/100\n",
      "36/36 [==============================] - 0s 4ms/step - loss: 0.4779 - accuracy: 0.7996 - val_loss: 0.5015 - val_accuracy: 0.7552\n",
      "Epoch 75/100\n",
      "36/36 [==============================] - 0s 5ms/step - loss: 0.5043 - accuracy: 0.7979 - val_loss: 0.4883 - val_accuracy: 0.7832\n",
      "Epoch 76/100\n",
      "36/36 [==============================] - 0s 2ms/step - loss: 0.4904 - accuracy: 0.7909 - val_loss: 0.4994 - val_accuracy: 0.7902\n",
      "Epoch 77/100\n",
      "36/36 [==============================] - 0s 2ms/step - loss: 0.5179 - accuracy: 0.7803 - val_loss: 0.5175 - val_accuracy: 0.7343\n",
      "Epoch 78/100\n",
      "36/36 [==============================] - 0s 2ms/step - loss: 0.4759 - accuracy: 0.7944 - val_loss: 0.4952 - val_accuracy: 0.7832\n",
      "Epoch 79/100\n",
      "36/36 [==============================] - 0s 2ms/step - loss: 0.4993 - accuracy: 0.7996 - val_loss: 0.5033 - val_accuracy: 0.7902\n",
      "Epoch 80/100\n",
      "36/36 [==============================] - 0s 2ms/step - loss: 0.4759 - accuracy: 0.7926 - val_loss: 0.5042 - val_accuracy: 0.7552\n",
      "Epoch 81/100\n",
      "36/36 [==============================] - 0s 2ms/step - loss: 0.4866 - accuracy: 0.7856 - val_loss: 0.5055 - val_accuracy: 0.7483\n",
      "Epoch 82/100\n",
      "36/36 [==============================] - 0s 2ms/step - loss: 0.4884 - accuracy: 0.7961 - val_loss: 0.5299 - val_accuracy: 0.7273\n",
      "Epoch 83/100\n",
      "36/36 [==============================] - 0s 2ms/step - loss: 0.4691 - accuracy: 0.8120 - val_loss: 0.5003 - val_accuracy: 0.7832\n",
      "Epoch 84/100\n",
      "36/36 [==============================] - 0s 2ms/step - loss: 0.4691 - accuracy: 0.8067 - val_loss: 0.4981 - val_accuracy: 0.7832\n",
      "Epoch 85/100\n",
      "36/36 [==============================] - 0s 2ms/step - loss: 0.5005 - accuracy: 0.7926 - val_loss: 0.4998 - val_accuracy: 0.7902\n",
      "Epoch 86/100\n",
      "36/36 [==============================] - 0s 2ms/step - loss: 0.4759 - accuracy: 0.7961 - val_loss: 0.4966 - val_accuracy: 0.7692\n",
      "Epoch 87/100\n",
      "36/36 [==============================] - 0s 2ms/step - loss: 0.4780 - accuracy: 0.8137 - val_loss: 0.4965 - val_accuracy: 0.7762\n",
      "Epoch 88/100\n",
      "36/36 [==============================] - 0s 2ms/step - loss: 0.4856 - accuracy: 0.8120 - val_loss: 0.4867 - val_accuracy: 0.7692\n",
      "Epoch 89/100\n",
      "36/36 [==============================] - 0s 2ms/step - loss: 0.4854 - accuracy: 0.7909 - val_loss: 0.5015 - val_accuracy: 0.7622\n",
      "Epoch 90/100\n",
      "36/36 [==============================] - 0s 2ms/step - loss: 0.4656 - accuracy: 0.8102 - val_loss: 0.4871 - val_accuracy: 0.7902\n",
      "Epoch 91/100\n",
      "36/36 [==============================] - 0s 2ms/step - loss: 0.4820 - accuracy: 0.7979 - val_loss: 0.5075 - val_accuracy: 0.7762\n",
      "Epoch 92/100\n",
      "36/36 [==============================] - 0s 2ms/step - loss: 0.4808 - accuracy: 0.8190 - val_loss: 0.4896 - val_accuracy: 0.7832\n",
      "Epoch 93/100\n",
      "36/36 [==============================] - 0s 2ms/step - loss: 0.4951 - accuracy: 0.7961 - val_loss: 0.5021 - val_accuracy: 0.7622\n",
      "Epoch 94/100\n",
      "36/36 [==============================] - 0s 2ms/step - loss: 0.4721 - accuracy: 0.7873 - val_loss: 0.4888 - val_accuracy: 0.7902\n",
      "Epoch 95/100\n",
      "36/36 [==============================] - 0s 2ms/step - loss: 0.4786 - accuracy: 0.7961 - val_loss: 0.4870 - val_accuracy: 0.7762\n",
      "Epoch 96/100\n",
      "36/36 [==============================] - 0s 2ms/step - loss: 0.4786 - accuracy: 0.7873 - val_loss: 0.4852 - val_accuracy: 0.7832\n",
      "Epoch 97/100\n",
      "36/36 [==============================] - 0s 2ms/step - loss: 0.4655 - accuracy: 0.8014 - val_loss: 0.4698 - val_accuracy: 0.8112\n",
      "Epoch 98/100\n",
      "36/36 [==============================] - 0s 2ms/step - loss: 0.4773 - accuracy: 0.7891 - val_loss: 0.4808 - val_accuracy: 0.7902\n",
      "Epoch 99/100\n",
      "36/36 [==============================] - 0s 2ms/step - loss: 0.4636 - accuracy: 0.8102 - val_loss: 0.4829 - val_accuracy: 0.7832\n",
      "Epoch 100/100\n",
      "36/36 [==============================] - 0s 2ms/step - loss: 0.4738 - accuracy: 0.8102 - val_loss: 0.5000 - val_accuracy: 0.7762\n"
     ]
    }
   ],
   "source": [
    "opt = tf.optimizers.Adam(lr=0.001)\n",
    "ann = ANN(opt)\n",
    "history = ann.fit(train, y_train,batch_size=BATCH_SIZE, epochs=100, validation_data=(val, y_val))\n"
   ]
  },
  {
   "cell_type": "code",
   "execution_count": 29,
   "metadata": {},
   "outputs": [
    {
     "name": "stdout",
     "output_type": "stream",
     "text": [
      "6/6 [==============================] - 0s 1ms/step - loss: 0.4279 - accuracy: 0.8436\n"
     ]
    },
    {
     "data": {
      "text/plain": [
       "[<matplotlib.lines.Line2D at 0x7f8ffcce7c50>]"
      ]
     },
     "execution_count": 29,
     "metadata": {},
     "output_type": "execute_result"
    },
    {
     "data": {
      "image/png": "[encoded data removed]",
      "text/plain": [
       "<Figure size 432x288 with 1 Axes>"
      ]
     },
     "metadata": {
      "needs_background": "light"
     },
     "output_type": "display_data"
    }
   ],
   "source": [
    "score = ann.evaluate(test, y_test)\n",
    "plt.plot(history.history['accuracy'])"
   ]
  },
  {
   "cell_type": "code",
   "execution_count": 30,
   "metadata": {},
   "outputs": [
    {
     "data": {
      "text/plain": [
       "[<matplotlib.lines.Line2D at 0x7f8ffdd12110>]"
      ]
     },
     "execution_count": 30,
     "metadata": {},
     "output_type": "execute_result"
    },
    {
     "data": {
      "image/png": "[encoded data removed]",
      "text/plain": [
       "<Figure size 432x288 with 1 Axes>"
      ]
     },
     "metadata": {
      "needs_background": "light"
     },
     "output_type": "display_data"
    }
   ],
   "source": [
    "plt.plot(history.history['val_accuracy'])"
   ]
  },
  {
   "cell_type": "code",
   "execution_count": 33,
   "metadata": {},
   "outputs": [
    {
     "data": {
      "text/html": [
       "<div>\n",
       "<style scoped>\n",
       "    .dataframe tbody tr th:only-of-type {\n",
       "        vertical-align: middle;\n",
       "    }\n",
       "\n",
       "    .dataframe tbody tr th {\n",
       "        vertical-align: top;\n",
       "    }\n",
       "\n",
       "    .dataframe thead th {\n",
       "        text-align: right;\n",
       "    }\n",
       "</style>\n",
       "<table border=\"1\" class=\"dataframe\">\n",
       "  <thead>\n",
       "    <tr style=\"text-align: right;\">\n",
       "      <th></th>\n",
       "      <th>Pclass</th>\n",
       "      <th>Sex</th>\n",
       "      <th>Age</th>\n",
       "      <th>SibSp</th>\n",
       "      <th>Parch</th>\n",
       "      <th>Fare</th>\n",
       "      <th>Infant</th>\n",
       "      <th>family</th>\n",
       "    </tr>\n",
       "  </thead>\n",
       "  <tbody>\n",
       "    <tr>\n",
       "      <th>0</th>\n",
       "      <td>2</td>\n",
       "      <td>1</td>\n",
       "      <td>34.5</td>\n",
       "      <td>0</td>\n",
       "      <td>0</td>\n",
       "      <td>7.8292</td>\n",
       "      <td>0</td>\n",
       "      <td>0</td>\n",
       "    </tr>\n",
       "    <tr>\n",
       "      <th>1</th>\n",
       "      <td>2</td>\n",
       "      <td>0</td>\n",
       "      <td>47.0</td>\n",
       "      <td>1</td>\n",
       "      <td>0</td>\n",
       "      <td>7.0000</td>\n",
       "      <td>0</td>\n",
       "      <td>1</td>\n",
       "    </tr>\n",
       "    <tr>\n",
       "      <th>2</th>\n",
       "      <td>1</td>\n",
       "      <td>1</td>\n",
       "      <td>62.0</td>\n",
       "      <td>0</td>\n",
       "      <td>0</td>\n",
       "      <td>9.6875</td>\n",
       "      <td>0</td>\n",
       "      <td>0</td>\n",
       "    </tr>\n",
       "    <tr>\n",
       "      <th>3</th>\n",
       "      <td>2</td>\n",
       "      <td>1</td>\n",
       "      <td>27.0</td>\n",
       "      <td>0</td>\n",
       "      <td>0</td>\n",
       "      <td>8.6625</td>\n",
       "      <td>0</td>\n",
       "      <td>0</td>\n",
       "    </tr>\n",
       "    <tr>\n",
       "      <th>4</th>\n",
       "      <td>2</td>\n",
       "      <td>0</td>\n",
       "      <td>22.0</td>\n",
       "      <td>1</td>\n",
       "      <td>1</td>\n",
       "      <td>12.2875</td>\n",
       "      <td>0</td>\n",
       "      <td>2</td>\n",
       "    </tr>\n",
       "    <tr>\n",
       "      <th>...</th>\n",
       "      <td>...</td>\n",
       "      <td>...</td>\n",
       "      <td>...</td>\n",
       "      <td>...</td>\n",
       "      <td>...</td>\n",
       "      <td>...</td>\n",
       "      <td>...</td>\n",
       "      <td>...</td>\n",
       "    </tr>\n",
       "    <tr>\n",
       "      <th>413</th>\n",
       "      <td>2</td>\n",
       "      <td>1</td>\n",
       "      <td>30.0</td>\n",
       "      <td>0</td>\n",
       "      <td>0</td>\n",
       "      <td>8.0500</td>\n",
       "      <td>0</td>\n",
       "      <td>0</td>\n",
       "    </tr>\n",
       "    <tr>\n",
       "      <th>414</th>\n",
       "      <td>0</td>\n",
       "      <td>0</td>\n",
       "      <td>39.0</td>\n",
       "      <td>0</td>\n",
       "      <td>0</td>\n",
       "      <td>108.9000</td>\n",
       "      <td>0</td>\n",
       "      <td>0</td>\n",
       "    </tr>\n",
       "    <tr>\n",
       "      <th>415</th>\n",
       "      <td>2</td>\n",
       "      <td>1</td>\n",
       "      <td>38.5</td>\n",
       "      <td>0</td>\n",
       "      <td>0</td>\n",
       "      <td>7.2500</td>\n",
       "      <td>0</td>\n",
       "      <td>0</td>\n",
       "    </tr>\n",
       "    <tr>\n",
       "      <th>416</th>\n",
       "      <td>2</td>\n",
       "      <td>1</td>\n",
       "      <td>30.0</td>\n",
       "      <td>0</td>\n",
       "      <td>0</td>\n",
       "      <td>8.0500</td>\n",
       "      <td>0</td>\n",
       "      <td>0</td>\n",
       "    </tr>\n",
       "    <tr>\n",
       "      <th>417</th>\n",
       "      <td>2</td>\n",
       "      <td>1</td>\n",
       "      <td>30.0</td>\n",
       "      <td>1</td>\n",
       "      <td>1</td>\n",
       "      <td>22.3583</td>\n",
       "      <td>0</td>\n",
       "      <td>2</td>\n",
       "    </tr>\n",
       "  </tbody>\n",
       "</table>\n",
       "<p>418 rows × 8 columns</p>\n",
       "</div>"
      ],
      "text/plain": [
       "     Pclass  Sex   Age  SibSp  Parch      Fare  Infant  family\n",
       "0         2    1  34.5      0      0    7.8292       0       0\n",
       "1         2    0  47.0      1      0    7.0000       0       1\n",
       "2         1    1  62.0      0      0    9.6875       0       0\n",
       "3         2    1  27.0      0      0    8.6625       0       0\n",
       "4         2    0  22.0      1      1   12.2875       0       2\n",
       "..      ...  ...   ...    ...    ...       ...     ...     ...\n",
       "413       2    1  30.0      0      0    8.0500       0       0\n",
       "414       0    0  39.0      0      0  108.9000       0       0\n",
       "415       2    1  38.5      0      0    7.2500       0       0\n",
       "416       2    1  30.0      0      0    8.0500       0       0\n",
       "417       2    1  30.0      1      1   22.3583       0       2\n",
       "\n",
       "[418 rows x 8 columns]"
      ]
     },
     "execution_count": 33,
     "metadata": {},
     "output_type": "execute_result"
    }
   ],
   "source": [
    "testset"
   ]
  },
  {
   "cell_type": "code",
   "execution_count": 32,
   "metadata": {},
   "outputs": [
    {
     "name": "stdout",
     "output_type": "stream",
     "text": [
      "14/14 [==============================] - 0s 1ms/step\n"
     ]
    },
    {
     "data": {
      "text/plain": [
       "array([[0.18128656],\n",
       "       [0.4224074 ],\n",
       "       [0.19813354],\n",
       "       [0.18858981],\n",
       "       [0.48605543],\n",
       "       [0.1790246 ],\n",
       "       [0.671524  ],\n",
       "       [0.22861592],\n",
       "       [0.7019969 ],\n",
       "       [0.17047589],\n",
       "       [0.18395478],\n",
       "       [0.31224945],\n",
       "       [0.77136207],\n",
       "       [0.30712855],\n",
       "       [0.7140704 ],\n",
       "       [0.7081341 ],\n",
       "       [0.2471773 ],\n",
       "       [0.1885401 ],\n",
       "       [0.55812645],\n",
       "       [0.53283495],\n",
       "       [0.3277713 ],\n",
       "       [0.38350427],\n",
       "       [0.77136207],\n",
       "       [0.40144092],\n",
       "       [0.77136207],\n",
       "       [0.21307741],\n",
       "       [0.77136207],\n",
       "       [0.19035383],\n",
       "       [0.30081737],\n",
       "       [0.23397323],\n",
       "       [0.30888265],\n",
       "       [0.20233853],\n",
       "       [0.50091475],\n",
       "       [0.4845648 ],\n",
       "       [0.30763176],\n",
       "       [0.18553124],\n",
       "       [0.68167377],\n",
       "       [0.70695204],\n",
       "       [0.18481278],\n",
       "       [0.3579501 ],\n",
       "       [0.20295535],\n",
       "       [0.28337651],\n",
       "       [0.17965409],\n",
       "       [0.7650365 ],\n",
       "       [0.72462165],\n",
       "       [0.18963894],\n",
       "       [0.3086074 ],\n",
       "       [0.18407205],\n",
       "       [0.7543395 ],\n",
       "       [0.7370281 ],\n",
       "       [0.34124002],\n",
       "       [0.24099086],\n",
       "       [0.35128728],\n",
       "       [0.77136207],\n",
       "       [0.25055256],\n",
       "       [0.05542039],\n",
       "       [0.18155748],\n",
       "       [0.18978013],\n",
       "       [0.21239316],\n",
       "       [0.77136207],\n",
       "       [0.18133128],\n",
       "       [0.25074604],\n",
       "       [0.18303339],\n",
       "       [0.6995237 ],\n",
       "       [0.77136207],\n",
       "       [0.7398998 ],\n",
       "       [0.7047424 ],\n",
       "       [0.30167714],\n",
       "       [0.28827715],\n",
       "       [0.77136207],\n",
       "       [0.69601333],\n",
       "       [0.18605413],\n",
       "       [0.68503237],\n",
       "       [0.2905205 ],\n",
       "       [0.77136207],\n",
       "       [0.7505754 ],\n",
       "       [0.18383084],\n",
       "       [0.77136207],\n",
       "       [0.24571413],\n",
       "       [0.69601333],\n",
       "       [0.57786655],\n",
       "       [0.5230773 ],\n",
       "       [0.31258193],\n",
       "       [0.18395478],\n",
       "       [0.23455106],\n",
       "       [0.21046038],\n",
       "       [0.6911591 ],\n",
       "       [0.7049499 ],\n",
       "       [0.6745726 ],\n",
       "       [0.94572043],\n",
       "       [0.69552714],\n",
       "       [0.18405196],\n",
       "       [0.6340977 ],\n",
       "       [0.18383084],\n",
       "       [0.30010393],\n",
       "       [0.18970524],\n",
       "       [0.7339574 ],\n",
       "       [0.1854329 ],\n",
       "       [0.7032215 ],\n",
       "       [0.18304832],\n",
       "       [0.7181344 ],\n",
       "       [0.25041863],\n",
       "       [0.18407205],\n",
       "       [0.1891318 ],\n",
       "       [0.5034618 ],\n",
       "       [0.21380639],\n",
       "       [0.18633078],\n",
       "       [0.18407205],\n",
       "       [0.18675326],\n",
       "       [0.21234134],\n",
       "       [0.26294577],\n",
       "       [0.67528796],\n",
       "       [0.7674147 ],\n",
       "       [0.7016563 ],\n",
       "       [0.77136207],\n",
       "       [0.20634381],\n",
       "       [0.1847967 ],\n",
       "       [0.9539871 ],\n",
       "       [0.40029132],\n",
       "       [0.7610549 ],\n",
       "       [0.77136207],\n",
       "       [0.2173541 ],\n",
       "       [0.7056006 ],\n",
       "       [0.18777531],\n",
       "       [0.18407205],\n",
       "       [0.64251906],\n",
       "       [0.18762036],\n",
       "       [0.57899004],\n",
       "       [0.2469364 ],\n",
       "       [0.18905498],\n",
       "       [0.18312907],\n",
       "       [0.31586754],\n",
       "       [0.39898258],\n",
       "       [0.21842058],\n",
       "       [0.17939252],\n",
       "       [0.189788  ],\n",
       "       [0.18968007],\n",
       "       [0.23353578],\n",
       "       [0.70013434],\n",
       "       [0.12599972],\n",
       "       [0.06368989],\n",
       "       [0.77136207],\n",
       "       [0.59158874],\n",
       "       [0.25761902],\n",
       "       [0.30722442],\n",
       "       [0.26271266],\n",
       "       [0.35418808],\n",
       "       [0.1866789 ],\n",
       "       [0.28337651],\n",
       "       [0.25492635],\n",
       "       [0.77136207],\n",
       "       [0.18395478],\n",
       "       [       nan],\n",
       "       [0.6356492 ],\n",
       "       [0.03268755],\n",
       "       [0.19016837],\n",
       "       [0.77136207],\n",
       "       [0.698675  ],\n",
       "       [0.30722442],\n",
       "       [0.6123478 ],\n",
       "       [0.674163  ],\n",
       "       [0.4156156 ],\n",
       "       [0.7573298 ],\n",
       "       [0.1845504 ],\n",
       "       [0.24796467],\n",
       "       [0.5992269 ],\n",
       "       [0.33124432],\n",
       "       [0.11610279],\n",
       "       [0.77136207],\n",
       "       [0.70748043],\n",
       "       [0.18423297],\n",
       "       [0.18914783],\n",
       "       [0.20861213],\n",
       "       [0.18445013],\n",
       "       [0.20043522],\n",
       "       [0.7678963 ],\n",
       "       [0.77136207],\n",
       "       [0.3156439 ],\n",
       "       [0.7320162 ],\n",
       "       [0.7481739 ],\n",
       "       [0.24571413],\n",
       "       [0.35016558],\n",
       "       [0.77136207],\n",
       "       [0.18407205],\n",
       "       [0.77136207],\n",
       "       [0.26661834],\n",
       "       [0.76554   ],\n",
       "       [0.30726093],\n",
       "       [0.00590934],\n",
       "       [0.24899592],\n",
       "       [0.27344838],\n",
       "       [0.2821963 ],\n",
       "       [0.21086474],\n",
       "       [0.22264671],\n",
       "       [0.83793825],\n",
       "       [0.18184721],\n",
       "       [0.77136207],\n",
       "       [0.7046157 ],\n",
       "       [0.2182054 ],\n",
       "       [0.6830753 ],\n",
       "       [0.71972495],\n",
       "       [0.9979811 ],\n",
       "       [0.59283924],\n",
       "       [0.75158656],\n",
       "       [0.22436129],\n",
       "       [0.28251687],\n",
       "       [0.6325098 ],\n",
       "       [0.22127837],\n",
       "       [0.76587987],\n",
       "       [0.18965393],\n",
       "       [0.22314435],\n",
       "       [0.18452851],\n",
       "       [0.4511836 ],\n",
       "       [0.77136207],\n",
       "       [0.38525087],\n",
       "       [0.31644714],\n",
       "       [0.67773205],\n",
       "       [0.45827225],\n",
       "       [0.77136207],\n",
       "       [0.18383084],\n",
       "       [0.77136207],\n",
       "       [0.18548627],\n",
       "       [0.76129794],\n",
       "       [0.18642311],\n",
       "       [0.77136207],\n",
       "       [0.6979417 ],\n",
       "       [0.18882354],\n",
       "       [0.6745726 ],\n",
       "       [0.23532046],\n",
       "       [0.25247133],\n",
       "       [0.42885718],\n",
       "       [0.77136207],\n",
       "       [0.2397022 ],\n",
       "       [0.18396814],\n",
       "       [0.31924906],\n",
       "       [0.18501727],\n",
       "       [0.33760813],\n",
       "       [0.18733832],\n",
       "       [0.6102144 ],\n",
       "       [0.7592984 ],\n",
       "       [0.77136207],\n",
       "       [0.77136207],\n",
       "       [0.446196  ],\n",
       "       [0.18396144],\n",
       "       [0.21389155],\n",
       "       [0.32245854],\n",
       "       [0.7430009 ],\n",
       "       [0.28571433],\n",
       "       [0.7610549 ],\n",
       "       [0.75118077],\n",
       "       [0.95917934],\n",
       "       [0.18475747],\n",
       "       [0.49937627],\n",
       "       [0.18433495],\n",
       "       [0.19290721],\n",
       "       [0.18423297],\n",
       "       [0.18407205],\n",
       "       [0.18619698],\n",
       "       [0.74952537],\n",
       "       [0.18649995],\n",
       "       [0.23615001],\n",
       "       [0.18620755],\n",
       "       [0.77136207],\n",
       "       [0.962792  ],\n",
       "       [0.2445065 ],\n",
       "       [0.18395478],\n",
       "       [0.1460751 ],\n",
       "       [0.18423297],\n",
       "       [0.68167377],\n",
       "       [0.17857665],\n",
       "       [0.36492038],\n",
       "       [0.18407205],\n",
       "       [0.77136207],\n",
       "       [0.7537449 ],\n",
       "       [0.18445195],\n",
       "       [0.6994061 ],\n",
       "       [0.23051071],\n",
       "       [0.28812566],\n",
       "       [0.2650464 ],\n",
       "       [0.21503809],\n",
       "       [0.70423895],\n",
       "       [0.9862855 ],\n",
       "       [0.6745726 ],\n",
       "       [0.55333275],\n",
       "       [0.92007816],\n",
       "       [0.17735538],\n",
       "       [0.18444102],\n",
       "       [0.40876216],\n",
       "       [0.18445013],\n",
       "       [0.18383084],\n",
       "       [0.34774357],\n",
       "       [0.65207714],\n",
       "       [0.18445013],\n",
       "       [0.32202527],\n",
       "       [0.1912846 ],\n",
       "       [0.18931769],\n",
       "       [0.8955547 ],\n",
       "       [0.23397323],\n",
       "       [0.34977934],\n",
       "       [0.18559396],\n",
       "       [0.18146469],\n",
       "       [0.25021064],\n",
       "       [0.2835738 ],\n",
       "       [0.18677606],\n",
       "       [0.6745726 ],\n",
       "       [0.77136207],\n",
       "       [0.5451976 ],\n",
       "       [0.9943124 ],\n",
       "       [0.3170086 ],\n",
       "       [0.7070082 ],\n",
       "       [0.17973465],\n",
       "       [0.1897478 ],\n",
       "       [0.18421286],\n",
       "       [0.6128615 ],\n",
       "       [0.77136207],\n",
       "       [0.7026028 ],\n",
       "       [0.4329409 ],\n",
       "       [0.20573722],\n",
       "       [0.18769898],\n",
       "       [0.19862787],\n",
       "       [0.1891318 ],\n",
       "       [0.19125873],\n",
       "       [0.23353578],\n",
       "       [0.289003  ],\n",
       "       [0.77136207],\n",
       "       [0.19113667],\n",
       "       [0.38781363],\n",
       "       [0.3773817 ],\n",
       "       [0.25833413],\n",
       "       [0.21768102],\n",
       "       [0.77136207],\n",
       "       [0.29792416],\n",
       "       [0.18445195],\n",
       "       [0.4632164 ],\n",
       "       [0.18760347],\n",
       "       [0.28219634],\n",
       "       [0.24826528],\n",
       "       [0.21491802],\n",
       "       [0.31859058],\n",
       "       [0.18445013],\n",
       "       [0.20270397],\n",
       "       [0.18076712],\n",
       "       [0.07517719],\n",
       "       [0.77136207],\n",
       "       [0.22864656],\n",
       "       [0.700531  ],\n",
       "       [0.23353578],\n",
       "       [0.58434534],\n",
       "       [0.22832933],\n",
       "       [0.74073267],\n",
       "       [0.7559118 ],\n",
       "       [0.22436123],\n",
       "       [0.44878715],\n",
       "       [0.30024907],\n",
       "       [0.9834256 ],\n",
       "       [0.31263053],\n",
       "       [0.77136207],\n",
       "       [0.18396814],\n",
       "       [0.18407205],\n",
       "       [0.75376546],\n",
       "       [0.00290585],\n",
       "       [0.6630252 ],\n",
       "       [0.74073267],\n",
       "       [0.18858981],\n",
       "       [0.75265443],\n",
       "       [0.13086644],\n",
       "       [0.21044281],\n",
       "       [0.77136207],\n",
       "       [0.7609973 ],\n",
       "       [0.24467494],\n",
       "       [0.22436538],\n",
       "       [0.77136207],\n",
       "       [0.09765734],\n",
       "       [0.2448884 ],\n",
       "       [0.68988585],\n",
       "       [0.77136207],\n",
       "       [0.46253398],\n",
       "       [0.21481532],\n",
       "       [0.3089648 ],\n",
       "       [0.09142961],\n",
       "       [0.18407205],\n",
       "       [0.18932621],\n",
       "       [0.72245896],\n",
       "       [0.63533646],\n",
       "       [0.24518016],\n",
       "       [0.69654155],\n",
       "       [0.19005264],\n",
       "       [0.23228332],\n",
       "       [0.18659231],\n",
       "       [0.15021211],\n",
       "       [0.49799246],\n",
       "       [0.7707046 ],\n",
       "       [0.268479  ],\n",
       "       [0.22403859],\n",
       "       [0.22207646],\n",
       "       [0.77136207],\n",
       "       [0.19070849],\n",
       "       [0.68697834],\n",
       "       [0.18769756],\n",
       "       [0.18245469],\n",
       "       [0.77136207],\n",
       "       [0.2848757 ],\n",
       "       [0.77136207],\n",
       "       [0.38685805],\n",
       "       [0.32546252],\n",
       "       [0.21806155],\n",
       "       [0.23098391],\n",
       "       [0.5492985 ],\n",
       "       [0.67385626],\n",
       "       [0.91172934],\n",
       "       [0.6745726 ],\n",
       "       [0.77136207],\n",
       "       [0.6878164 ],\n",
       "       [0.18383084],\n",
       "       [0.77136207],\n",
       "       [0.17659104],\n",
       "       [0.18383084],\n",
       "       [0.21414585]], dtype=float32)"
      ]
     },
     "execution_count": 32,
     "metadata": {},
     "output_type": "execute_result"
    }
   ],
   "source": [
    "ann.predict(testset)"
   ]
  },
  {
   "cell_type": "code",
   "execution_count": 31,
   "metadata": {},
   "outputs": [
    {
     "name": "stdout",
     "output_type": "stream",
     "text": [
      "14/14 [==============================] - 0s 873us/step\n"
     ]
    }
   ],
   "source": [
    "y_pred = ann.predict(testset)\n",
    "y_pred = (y_pred > 0.5) * 1\n",
    "submission = pd.DataFrame({\"PassengerId\": test_df['PassengerId'], \"Survived\":np.reshape(y_pred, len(y_pred))})\n",
    "submission.to_csv('submission.csv', index=False)"
   ]
  }
 ],
 "metadata": {
  "kernelspec": {
   "display_name": "Python 3.7.13 ('test')",
   "language": "python",
   "name": "python3"
  },
  "language_info": {
   "codemirror_mode": {
    "name": "ipython",
    "version": 3
   },
   "file_extension": ".py",
   "mimetype": "text/x-python",
   "name": "python",
   "nbconvert_exporter": "python",
   "pygments_lexer": "ipython3",
   "version": "3.7.13"
  },
  "orig_nbformat": 4,
  "vscode": {
   "interpreter": {
    "hash": "a8aac0b6a3e67f35bcd67088a857342b2a6b50e1135570ee0f841fb10732c056"
   }
  }
 },
 "nbformat": 4,
 "nbformat_minor": 2
}
