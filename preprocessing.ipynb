{
 "cells": [
  {
   "cell_type": "code",
   "execution_count": 58,
   "metadata": {},
   "outputs": [],
   "source": [
    "import pandas as pd\n",
    "import numpy as np\n",
    "import tensorflow as tf\n",
    "import matplotlib.pyplot as plt\n",
    "from keras.models import Sequential\n",
    "from keras.layers import Dense, Dropout\n",
    "import os\n",
    "from sklearn import preprocessing\n",
    "from sklearn.model_selection import train_test_split\n",
    "import tensorflow.keras.layers as layers\n",
    "import yaml"
   ]
  },
  {
   "cell_type": "code",
   "execution_count": 59,
   "metadata": {},
   "outputs": [],
   "source": [
    "with open('config.yml') as file:\n",
    "    config = yaml.load(file, Loader=yaml.FullLoader)\n",
    "test = config['system']['test']"
   ]
  },
  {
   "cell_type": "code",
   "execution_count": 60,
   "metadata": {},
   "outputs": [],
   "source": [
    "if(test):\n",
    "    preprocessing_file = 'test.csv'\n",
    "else:\n",
    "    preprocessing_file = 'train.csv'\n"
   ]
  },
  {
   "cell_type": "code",
   "execution_count": 61,
   "metadata": {},
   "outputs": [],
   "source": [
    "def is_infant(x):\n",
    "    if(x <= 11): return 1\n",
    "    else: return 0"
   ]
  },
  {
   "cell_type": "code",
   "execution_count": 62,
   "metadata": {},
   "outputs": [],
   "source": [
    "dataset = pd.read_csv(processing_object)"
   ]
  },
  {
   "cell_type": "code",
   "execution_count": 63,
   "metadata": {},
   "outputs": [],
   "source": [
    "dataset = dataset.drop(columns=['Cabin', 'Ticket', 'Name', 'Embarked'])"
   ]
  },
  {
   "cell_type": "code",
   "execution_count": 64,
   "metadata": {},
   "outputs": [],
   "source": [
    "temp_df = dataset.copy()\n",
    "temp_df = temp_df.fillna(-1)\n",
    "condition = temp_df['Age'] >= 0\n",
    "temp_df = temp_df[condition]\n",
    "age_sum = temp_df['Age'].sum(axis=0)\n",
    "valid_age_cnt = temp_df['Age'].count()\n",
    "age_avg = round(age_sum / valid_age_cnt)\n",
    "dataset['Age'] = dataset['Age'].fillna(age_avg)"
   ]
  },
  {
   "cell_type": "code",
   "execution_count": 65,
   "metadata": {},
   "outputs": [],
   "source": [
    "dataset['Infant'] = dataset['Age'].apply(lambda x : is_infant(x))\n",
    "dataset['family'] = (dataset['Parch'] + dataset['SibSp'])\n"
   ]
  },
  {
   "cell_type": "code",
   "execution_count": 66,
   "metadata": {},
   "outputs": [],
   "source": [
    "if(test):\n",
    "    categorical_columns = ['Pclass', 'Sex']\n",
    "    for col in categorical_columns:\n",
    "        le = preprocessing.LabelEncoder()\n",
    "        le.fit(dataset[col].values)\n",
    "        dataset[col] = le.transform(dataset[col].values)\n",
    "    dataset.to_excel('test.xlsx', index=False)\n",
    "else:\n",
    "    dataset = dataset.drop(columns='PassengerId')\n",
    "    dataset.to_excel('preprocessing.xlsx', index=False)"
   ]
  }
 ],
 "metadata": {
  "kernelspec": {
   "display_name": "Python 3.7.13 ('test')",
   "language": "python",
   "name": "python3"
  },
  "language_info": {
   "codemirror_mode": {
    "name": "ipython",
    "version": 3
   },
   "file_extension": ".py",
   "mimetype": "text/x-python",
   "name": "python",
   "nbconvert_exporter": "python",
   "pygments_lexer": "ipython3",
   "version": "3.7.13"
  },
  "orig_nbformat": 4,
  "vscode": {
   "interpreter": {
    "hash": "a8aac0b6a3e67f35bcd67088a857342b2a6b50e1135570ee0f841fb10732c056"
   }
  }
 },
 "nbformat": 4,
 "nbformat_minor": 2
}
